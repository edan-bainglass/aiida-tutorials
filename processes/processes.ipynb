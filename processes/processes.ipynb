{
 "cells": [
  {
   "cell_type": "code",
   "execution_count": null,
   "metadata": {},
   "outputs": [],
   "source": [
    "from aiida.manage import load_profile\n",
    "\n",
    "load_profile()"
   ]
  },
  {
   "cell_type": "code",
   "execution_count": null,
   "metadata": {},
   "outputs": [],
   "source": [
    "from aiida.engine import submit\n",
    "from aiida.orm import Dict, load_code, load_group, load_node\n",
    "from aiida.plugins.factories import DataFactory"
   ]
  },
  {
   "cell_type": "code",
   "execution_count": null,
   "metadata": {},
   "outputs": [],
   "source": [
    "code = load_code(571)\n",
    "builder = code.get_builder()\n",
    "\n",
    "structure = load_node(106)\n",
    "builder.structure = structure\n",
    "\n",
    "pseudo_family = load_group('SSSP/1.2/PBE/efficiency')\n",
    "pseudos = pseudo_family.get_pseudos(structure=structure)\n",
    "builder.pseudos = pseudos\n",
    "\n",
    "parameters = {\n",
    "    'CONTROL': {\n",
    "        'calculation': 'scf',  # self-consistent field\n",
    "    },\n",
    "    'SYSTEM': {\n",
    "        'ecutwfc': 30.,  # wave function cutoff in Ry\n",
    "        'ecutrho': 240.,  # density cutoff in Ry\n",
    "    },\n",
    "}\n",
    "builder.parameters = Dict(parameters)\n",
    "\n",
    "KpointsData = DataFactory('core.array.kpoints')\n",
    "kpoints = KpointsData()\n",
    "kpoints.set_kpoints_mesh([4, 4, 4])\n",
    "builder.kpoints = kpoints\n",
    "\n",
    "builder.metadata.options.resources = {'num_machines': 1}\n",
    "\n",
    "calcjob_node = submit(builder)"
   ]
  }
 ],
 "metadata": {
  "kernelspec": {
   "display_name": "venv",
   "language": "python",
   "name": "python3"
  },
  "language_info": {
   "codemirror_mode": {
    "name": "ipython",
    "version": 3
   },
   "file_extension": ".py",
   "mimetype": "text/x-python",
   "name": "python",
   "nbconvert_exporter": "python",
   "pygments_lexer": "ipython3",
   "version": "3.10.9"
  },
  "orig_nbformat": 4
 },
 "nbformat": 4,
 "nbformat_minor": 2
}
