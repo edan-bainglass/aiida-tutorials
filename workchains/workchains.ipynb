{
 "cells": [
  {
   "cell_type": "code",
   "execution_count": null,
   "metadata": {},
   "outputs": [],
   "source": [
    "from aiida.manage import load_profile\n",
    "\n",
    "load_profile()"
   ]
  },
  {
   "cell_type": "code",
   "execution_count": null,
   "metadata": {},
   "outputs": [],
   "source": [
    "from aiida.engine import run\n",
    "from aiida.orm import Int"
   ]
  },
  {
   "attachments": {},
   "cell_type": "markdown",
   "metadata": {},
   "source": [
    "# Input-to-Output Workchain\n",
    "\n",
    "Simple workchain that passes an input node as output"
   ]
  },
  {
   "cell_type": "code",
   "execution_count": null,
   "metadata": {},
   "outputs": [],
   "source": [
    "from output_input import OutputInputWorkChain"
   ]
  },
  {
   "cell_type": "code",
   "execution_count": null,
   "metadata": {},
   "outputs": [],
   "source": [
    "result = run(OutputInputWorkChain, x=Int(4))"
   ]
  },
  {
   "cell_type": "code",
   "execution_count": null,
   "metadata": {},
   "outputs": [],
   "source": [
    "result"
   ]
  },
  {
   "attachments": {},
   "cell_type": "markdown",
   "metadata": {},
   "source": [
    "# Addition Workchain"
   ]
  },
  {
   "cell_type": "code",
   "execution_count": null,
   "metadata": {},
   "outputs": [],
   "source": [
    "from add import AddWorkChain"
   ]
  },
  {
   "cell_type": "code",
   "execution_count": null,
   "metadata": {},
   "outputs": [],
   "source": [
    "result = run(AddWorkChain, x=Int(2), y=Int(3))"
   ]
  },
  {
   "cell_type": "code",
   "execution_count": null,
   "metadata": {},
   "outputs": [],
   "source": [
    "result"
   ]
  },
  {
   "attachments": {},
   "cell_type": "markdown",
   "metadata": {},
   "source": [
    "# Verdi"
   ]
  },
  {
   "cell_type": "code",
   "execution_count": 6,
   "metadata": {},
   "outputs": [
    {
     "name": "stdout",
     "output_type": "stream",
     "text": [
      "\u001b[22m  PK  Created    Process label         Process State    Process status\n",
      "----  ---------  --------------------  ---------------  ----------------\n",
      "2946  19h ago    OutputInputWorkChain  ⨯ Excepted\n",
      "2948  19h ago    OutputInputWorkChain  ⨯ Excepted\n",
      "2950  19h ago    OutputInputWorkChain  ⏹ Finished [0]\n",
      "2952  1h ago     OutputInputWorkChain  ⏹ Finished [0]\n",
      "2954  1h ago     OutputInputWorkChain  ⏹ Finished [0]\n",
      "2957  1h ago     AddWorkChain          ⨯ Excepted\n",
      "2960  34m ago    AddWorkChain          ⏹ Finished [0]\n",
      "2961  34m ago    addition              ⏹ Finished [0]\n",
      "2965  9s ago     AddWorkChain          ⏹ Finished [0]\n",
      "2966  9s ago     addition              ⏹ Finished [0]\u001b[0m\n",
      "\u001b[22m\n",
      "Total results: 10\n",
      "\u001b[0m\n",
      "\u001b[34m\u001b[1mReport\u001b[0m: \u001b[22mlast time an entry changed state: 8s ago (at 12:38:38 on 2023-04-13)\u001b[0m\n",
      "\u001b[34m\u001b[1mReport\u001b[0m: \u001b[22mUsing 0% of the available daemon worker slots.\u001b[0m\n"
     ]
    }
   ],
   "source": [
    "!verdi process list -a -p 1"
   ]
  },
  {
   "cell_type": "code",
   "execution_count": null,
   "metadata": {},
   "outputs": [],
   "source": [
    "!verdi process show 2960"
   ]
  },
  {
   "cell_type": "code",
   "execution_count": null,
   "metadata": {},
   "outputs": [],
   "source": [
    "!verdi node graph generate 2961\n",
    "!verdi node graph generate 2960\n",
    "!verdi node graph generate -i 2960"
   ]
  },
  {
   "cell_type": "code",
   "execution_count": null,
   "metadata": {},
   "outputs": [],
   "source": []
  }
 ],
 "metadata": {
  "kernelspec": {
   "display_name": "venv",
   "language": "python",
   "name": "python3"
  },
  "language_info": {
   "codemirror_mode": {
    "name": "ipython",
    "version": 3
   },
   "file_extension": ".py",
   "mimetype": "text/x-python",
   "name": "python",
   "nbconvert_exporter": "python",
   "pygments_lexer": "ipython3",
   "version": "3.10.9"
  },
  "orig_nbformat": 4
 },
 "nbformat": 4,
 "nbformat_minor": 2
}
